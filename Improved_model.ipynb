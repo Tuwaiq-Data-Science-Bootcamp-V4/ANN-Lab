{
  "nbformat": 4,
  "nbformat_minor": 0,
  "metadata": {
    "colab": {
      "provenance": [],
      "machine_shape": "hm",
      "gpuType": "A100",
      "authorship_tag": "ABX9TyMLCakvxDa+xdoCsVKlYYu1",
      "include_colab_link": true
    },
    "kernelspec": {
      "name": "python3",
      "display_name": "Python 3"
    },
    "language_info": {
      "name": "python"
    },
    "accelerator": "GPU"
  },
  "cells": [
    {
      "cell_type": "markdown",
      "metadata": {
        "id": "view-in-github",
        "colab_type": "text"
      },
      "source": [
        "<a href=\"https://colab.research.google.com/github/N10dx/Bootcamp-Project-1-Python/blob/main/Improved_model.ipynb\" target=\"_parent\"><img src=\"https://colab.research.google.com/assets/colab-badge.svg\" alt=\"Open In Colab\"/></a>"
      ]
    },
    {
      "cell_type": "code",
      "execution_count": 3,
      "metadata": {
        "id": "Vx5bsn14NFrr"
      },
      "outputs": [],
      "source": [
        "import numpy as np\n",
        "from sklearn.model_selection import train_test_split\n",
        "from sklearn.preprocessing import StandardScaler\n",
        "from keras.models import Sequential\n",
        "from keras.layers import Dense, Dropout, BatchNormalization\n",
        "from keras.optimizers import SGD, Adadelta, RMSprop, Adagrad, Adam\n",
        "from keras.wrappers.scikit_learn import KerasClassifier\n",
        "from sklearn.model_selection import GridSearchCV\n",
        "import pandas as pd\n",
        "\n",
        "\n"
      ]
    },
    {
      "cell_type": "code",
      "source": [
        "data = pd.read_csv('diabetes.csv')\n",
        "X = data.iloc[:,0:8]\n",
        "Y = data.iloc[:,8]\n",
        "X_train, X_test, y_train, y_test = train_test_split(X, Y, test_size=0.2, random_state=42)\n",
        "scaler = StandardScaler()\n",
        "X_train = scaler.fit_transform(X_train)\n",
        "X_test = scaler.transform(X_test)"
      ],
      "metadata": {
        "id": "cbKI9bFkeDo2"
      },
      "execution_count": 4,
      "outputs": []
    },
    {
      "cell_type": "code",
      "source": [
        "\n",
        "def create_my_model(optimizer='adam', dropout_rate=0.0, use_batch_norm=False, neurons=12):\n",
        "    mymodel = Sequential()\n",
        "    mymodel.add(Dense(neurons, input_dim=X_train.shape[1], activation='relu'))\n",
        "    if use_batch_norm:\n",
        "        mymodel.add(BatchNormalization())\n",
        "    if dropout_rate > 0:\n",
        "        mymodel.add(Dropout(dropout_rate))\n",
        "\n",
        "    mymodel.add(Dense(1, activation='sigmoid'))\n",
        "    mymodel.compile(loss='binary_crossentropy', optimizer=optimizer, metrics=['accuracy'])\n",
        "    return mymodel\n"
      ],
      "metadata": {
        "id": "J6uyOO9AOQjm"
      },
      "execution_count": 5,
      "outputs": []
    },
    {
      "cell_type": "code",
      "source": [
        "print(\"X_train shape:\", X_train.shape)\n",
        "print(\"y_train shape:\", y_train.shape)"
      ],
      "metadata": {
        "colab": {
          "base_uri": "https://localhost:8080/"
        },
        "id": "vM3qe_C8OtVq",
        "outputId": "337c9ae0-1fd4-41a5-d034-cf81fa76200c"
      },
      "execution_count": 6,
      "outputs": [
        {
          "output_type": "stream",
          "name": "stdout",
          "text": [
            "X_train shape: (614, 8)\n",
            "y_train shape: (614,)\n"
          ]
        }
      ]
    },
    {
      "cell_type": "code",
      "source": [
        "\n",
        "optimizers = ['SGD', 'Adadelta', 'RMSprop', 'Adagrad', 'Adam']\n",
        "dropout_rates = [0.0, 0.2, 0.4]\n",
        "epochs = [200, 300]\n",
        "use_batch_norms = [True, False]\n",
        "batchSize = [50, 100]\n",
        "neurons = [8, 12, 16]\n",
        "\n",
        "param_grid = dict(\n",
        "    optimizer=optimizers,\n",
        "    dropout_rate=dropout_rates,\n",
        "    use_batch_norm=use_batch_norms,\n",
        "    neurons=neurons,\n",
        "    batch_size=batchSize,\n",
        "    epochs=epochs,  )\n",
        "\n",
        "model = KerasClassifier(build_fn=create_my_model, verbose=0)\n",
        "\n",
        "grid = GridSearchCV(estimator=model, param_grid=param_grid, n_jobs=-1, cv=3)\n"
      ],
      "metadata": {
        "colab": {
          "base_uri": "https://localhost:8080/"
        },
        "id": "gVYwbJREO-Hc",
        "outputId": "0627c5ed-d534-4beb-be4c-aca7850a7b30"
      },
      "execution_count": 7,
      "outputs": [
        {
          "output_type": "stream",
          "name": "stderr",
          "text": [
            "<ipython-input-7-cff69d8d7669>:16: DeprecationWarning: KerasClassifier is deprecated, use Sci-Keras (https://github.com/adriangb/scikeras) instead. See https://www.adriangb.com/scikeras/stable/migration.html for help migrating.\n",
            "  model = KerasClassifier(build_fn=create_my_model, verbose=0)\n"
          ]
        }
      ]
    },
    {
      "cell_type": "code",
      "source": [
        "\n",
        "\n",
        "grid_result = grid.fit(X_train, y_train)\n",
        "\n",
        "print(\"Best: %f using %s\" % (grid_result.best_score_, grid_result.best_params_))\n",
        "\n",
        "best_model = grid_result.best_estimator_\n",
        "test_accuracy = best_model.score(X_test, y_test)\n",
        "print(\"Test Accuracy with Best Hyperparameters:\", test_accuracy)"
      ],
      "metadata": {
        "id": "uFAZTVNtOWbK",
        "colab": {
          "base_uri": "https://localhost:8080/"
        },
        "outputId": "1bc9943f-0454-4023-f2ff-271b28049c71"
      },
      "execution_count": 8,
      "outputs": [
        {
          "output_type": "stream",
          "name": "stderr",
          "text": [
            "/usr/local/lib/python3.10/dist-packages/joblib/externals/loky/process_executor.py:752: UserWarning: A worker stopped while some jobs were given to the executor. This can be caused by a too short worker timeout or by a memory leak.\n",
            "  warnings.warn(\n"
          ]
        },
        {
          "output_type": "stream",
          "name": "stdout",
          "text": [
            "Best: 0.783317 using {'batch_size': 100, 'dropout_rate': 0.4, 'epochs': 200, 'neurons': 16, 'optimizer': 'SGD', 'use_batch_norm': True}\n",
            "Test Accuracy with Best Hyperparameters: 0.7402597665786743\n"
          ]
        }
      ]
    }
  ]
}