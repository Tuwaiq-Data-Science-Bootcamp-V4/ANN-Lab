{
  "cells": [
    {
      "cell_type": "markdown",
      "metadata": {
        "id": "y5zqkxd1FOLR"
      },
      "source": [
        "# Neural network Tuning"
      ]
    },
    {
      "cell_type": "code",
      "execution_count": 3,
      "metadata": {
        "scrolled": true,
        "id": "yw2nXKjJFOLU"
      },
      "outputs": [],
      "source": [
        "# Importing necesary packages\n",
        "import numpy\n",
        "import pandas as pd\n",
        "from sklearn.model_selection import GridSearchCV\n",
        "from keras.models import Sequential\n",
        "from keras.layers import Dense\n",
        "import warnings\n",
        "warnings.filterwarnings('ignore')\n",
        "from tensorflow.keras.wrappers.scikit_learn import KerasClassifier\n"
      ]
    },
    {
      "cell_type": "markdown",
      "metadata": {
        "id": "-Pifum9LFOLW"
      },
      "source": [
        "# part 1 - Tuning batch and epoch"
      ]
    },
    {
      "cell_type": "code",
      "execution_count": 7,
      "metadata": {
        "id": "GQMfnklPFOLW"
      },
      "outputs": [],
      "source": [
        "# load the dataset for India diabetes\n",
        "data = pd.read_csv('diabetes.csv')"
      ]
    },
    {
      "cell_type": "code",
      "execution_count": 8,
      "metadata": {
        "colab": {
          "base_uri": "https://localhost:8080/",
          "height": 226
        },
        "id": "9HE219tmFOLW",
        "outputId": "b22c53bb-97d2-4f14-b209-7f090903bfda"
      },
      "outputs": [
        {
          "output_type": "execute_result",
          "data": {
            "text/plain": [
              "   Pregnancies  Glucose  BloodPressure  SkinThickness  Insulin   BMI  \\\n",
              "0            6      148             72             35        0  33.6   \n",
              "1            1       85             66             29        0  26.6   \n",
              "2            8      183             64              0        0  23.3   \n",
              "3            1       89             66             23       94  28.1   \n",
              "4            0      137             40             35      168  43.1   \n",
              "\n",
              "   DiabetesPedigreeFunction  Age  Outcome  \n",
              "0                     0.627   50        1  \n",
              "1                     0.351   31        0  \n",
              "2                     0.672   32        1  \n",
              "3                     0.167   21        0  \n",
              "4                     2.288   33        1  "
            ],
            "text/html": [
              "\n",
              "  <div id=\"df-11b7baa5-9b56-49d9-a36d-cc204d46db7f\" class=\"colab-df-container\">\n",
              "    <div>\n",
              "<style scoped>\n",
              "    .dataframe tbody tr th:only-of-type {\n",
              "        vertical-align: middle;\n",
              "    }\n",
              "\n",
              "    .dataframe tbody tr th {\n",
              "        vertical-align: top;\n",
              "    }\n",
              "\n",
              "    .dataframe thead th {\n",
              "        text-align: right;\n",
              "    }\n",
              "</style>\n",
              "<table border=\"1\" class=\"dataframe\">\n",
              "  <thead>\n",
              "    <tr style=\"text-align: right;\">\n",
              "      <th></th>\n",
              "      <th>Pregnancies</th>\n",
              "      <th>Glucose</th>\n",
              "      <th>BloodPressure</th>\n",
              "      <th>SkinThickness</th>\n",
              "      <th>Insulin</th>\n",
              "      <th>BMI</th>\n",
              "      <th>DiabetesPedigreeFunction</th>\n",
              "      <th>Age</th>\n",
              "      <th>Outcome</th>\n",
              "    </tr>\n",
              "  </thead>\n",
              "  <tbody>\n",
              "    <tr>\n",
              "      <th>0</th>\n",
              "      <td>6</td>\n",
              "      <td>148</td>\n",
              "      <td>72</td>\n",
              "      <td>35</td>\n",
              "      <td>0</td>\n",
              "      <td>33.6</td>\n",
              "      <td>0.627</td>\n",
              "      <td>50</td>\n",
              "      <td>1</td>\n",
              "    </tr>\n",
              "    <tr>\n",
              "      <th>1</th>\n",
              "      <td>1</td>\n",
              "      <td>85</td>\n",
              "      <td>66</td>\n",
              "      <td>29</td>\n",
              "      <td>0</td>\n",
              "      <td>26.6</td>\n",
              "      <td>0.351</td>\n",
              "      <td>31</td>\n",
              "      <td>0</td>\n",
              "    </tr>\n",
              "    <tr>\n",
              "      <th>2</th>\n",
              "      <td>8</td>\n",
              "      <td>183</td>\n",
              "      <td>64</td>\n",
              "      <td>0</td>\n",
              "      <td>0</td>\n",
              "      <td>23.3</td>\n",
              "      <td>0.672</td>\n",
              "      <td>32</td>\n",
              "      <td>1</td>\n",
              "    </tr>\n",
              "    <tr>\n",
              "      <th>3</th>\n",
              "      <td>1</td>\n",
              "      <td>89</td>\n",
              "      <td>66</td>\n",
              "      <td>23</td>\n",
              "      <td>94</td>\n",
              "      <td>28.1</td>\n",
              "      <td>0.167</td>\n",
              "      <td>21</td>\n",
              "      <td>0</td>\n",
              "    </tr>\n",
              "    <tr>\n",
              "      <th>4</th>\n",
              "      <td>0</td>\n",
              "      <td>137</td>\n",
              "      <td>40</td>\n",
              "      <td>35</td>\n",
              "      <td>168</td>\n",
              "      <td>43.1</td>\n",
              "      <td>2.288</td>\n",
              "      <td>33</td>\n",
              "      <td>1</td>\n",
              "    </tr>\n",
              "  </tbody>\n",
              "</table>\n",
              "</div>\n",
              "    <div class=\"colab-df-buttons\">\n",
              "\n",
              "  <div class=\"colab-df-container\">\n",
              "    <button class=\"colab-df-convert\" onclick=\"convertToInteractive('df-11b7baa5-9b56-49d9-a36d-cc204d46db7f')\"\n",
              "            title=\"Convert this dataframe to an interactive table.\"\n",
              "            style=\"display:none;\">\n",
              "\n",
              "  <svg xmlns=\"http://www.w3.org/2000/svg\" height=\"24px\" viewBox=\"0 -960 960 960\">\n",
              "    <path d=\"M120-120v-720h720v720H120Zm60-500h600v-160H180v160Zm220 220h160v-160H400v160Zm0 220h160v-160H400v160ZM180-400h160v-160H180v160Zm440 0h160v-160H620v160ZM180-180h160v-160H180v160Zm440 0h160v-160H620v160Z\"/>\n",
              "  </svg>\n",
              "    </button>\n",
              "\n",
              "  <style>\n",
              "    .colab-df-container {\n",
              "      display:flex;\n",
              "      gap: 12px;\n",
              "    }\n",
              "\n",
              "    .colab-df-convert {\n",
              "      background-color: #E8F0FE;\n",
              "      border: none;\n",
              "      border-radius: 50%;\n",
              "      cursor: pointer;\n",
              "      display: none;\n",
              "      fill: #1967D2;\n",
              "      height: 32px;\n",
              "      padding: 0 0 0 0;\n",
              "      width: 32px;\n",
              "    }\n",
              "\n",
              "    .colab-df-convert:hover {\n",
              "      background-color: #E2EBFA;\n",
              "      box-shadow: 0px 1px 2px rgba(60, 64, 67, 0.3), 0px 1px 3px 1px rgba(60, 64, 67, 0.15);\n",
              "      fill: #174EA6;\n",
              "    }\n",
              "\n",
              "    .colab-df-buttons div {\n",
              "      margin-bottom: 4px;\n",
              "    }\n",
              "\n",
              "    [theme=dark] .colab-df-convert {\n",
              "      background-color: #3B4455;\n",
              "      fill: #D2E3FC;\n",
              "    }\n",
              "\n",
              "    [theme=dark] .colab-df-convert:hover {\n",
              "      background-color: #434B5C;\n",
              "      box-shadow: 0px 1px 3px 1px rgba(0, 0, 0, 0.15);\n",
              "      filter: drop-shadow(0px 1px 2px rgba(0, 0, 0, 0.3));\n",
              "      fill: #FFFFFF;\n",
              "    }\n",
              "  </style>\n",
              "\n",
              "    <script>\n",
              "      const buttonEl =\n",
              "        document.querySelector('#df-11b7baa5-9b56-49d9-a36d-cc204d46db7f button.colab-df-convert');\n",
              "      buttonEl.style.display =\n",
              "        google.colab.kernel.accessAllowed ? 'block' : 'none';\n",
              "\n",
              "      async function convertToInteractive(key) {\n",
              "        const element = document.querySelector('#df-11b7baa5-9b56-49d9-a36d-cc204d46db7f');\n",
              "        const dataTable =\n",
              "          await google.colab.kernel.invokeFunction('convertToInteractive',\n",
              "                                                    [key], {});\n",
              "        if (!dataTable) return;\n",
              "\n",
              "        const docLinkHtml = 'Like what you see? Visit the ' +\n",
              "          '<a target=\"_blank\" href=https://colab.research.google.com/notebooks/data_table.ipynb>data table notebook</a>'\n",
              "          + ' to learn more about interactive tables.';\n",
              "        element.innerHTML = '';\n",
              "        dataTable['output_type'] = 'display_data';\n",
              "        await google.colab.output.renderOutput(dataTable, element);\n",
              "        const docLink = document.createElement('div');\n",
              "        docLink.innerHTML = docLinkHtml;\n",
              "        element.appendChild(docLink);\n",
              "      }\n",
              "    </script>\n",
              "  </div>\n",
              "\n",
              "\n",
              "<div id=\"df-b8da26e8-21f3-4ab6-bc1a-02b6592e15d1\">\n",
              "  <button class=\"colab-df-quickchart\" onclick=\"quickchart('df-b8da26e8-21f3-4ab6-bc1a-02b6592e15d1')\"\n",
              "            title=\"Suggest charts.\"\n",
              "            style=\"display:none;\">\n",
              "\n",
              "<svg xmlns=\"http://www.w3.org/2000/svg\" height=\"24px\"viewBox=\"0 0 24 24\"\n",
              "     width=\"24px\">\n",
              "    <g>\n",
              "        <path d=\"M19 3H5c-1.1 0-2 .9-2 2v14c0 1.1.9 2 2 2h14c1.1 0 2-.9 2-2V5c0-1.1-.9-2-2-2zM9 17H7v-7h2v7zm4 0h-2V7h2v10zm4 0h-2v-4h2v4z\"/>\n",
              "    </g>\n",
              "</svg>\n",
              "  </button>\n",
              "\n",
              "<style>\n",
              "  .colab-df-quickchart {\n",
              "      --bg-color: #E8F0FE;\n",
              "      --fill-color: #1967D2;\n",
              "      --hover-bg-color: #E2EBFA;\n",
              "      --hover-fill-color: #174EA6;\n",
              "      --disabled-fill-color: #AAA;\n",
              "      --disabled-bg-color: #DDD;\n",
              "  }\n",
              "\n",
              "  [theme=dark] .colab-df-quickchart {\n",
              "      --bg-color: #3B4455;\n",
              "      --fill-color: #D2E3FC;\n",
              "      --hover-bg-color: #434B5C;\n",
              "      --hover-fill-color: #FFFFFF;\n",
              "      --disabled-bg-color: #3B4455;\n",
              "      --disabled-fill-color: #666;\n",
              "  }\n",
              "\n",
              "  .colab-df-quickchart {\n",
              "    background-color: var(--bg-color);\n",
              "    border: none;\n",
              "    border-radius: 50%;\n",
              "    cursor: pointer;\n",
              "    display: none;\n",
              "    fill: var(--fill-color);\n",
              "    height: 32px;\n",
              "    padding: 0;\n",
              "    width: 32px;\n",
              "  }\n",
              "\n",
              "  .colab-df-quickchart:hover {\n",
              "    background-color: var(--hover-bg-color);\n",
              "    box-shadow: 0 1px 2px rgba(60, 64, 67, 0.3), 0 1px 3px 1px rgba(60, 64, 67, 0.15);\n",
              "    fill: var(--button-hover-fill-color);\n",
              "  }\n",
              "\n",
              "  .colab-df-quickchart-complete:disabled,\n",
              "  .colab-df-quickchart-complete:disabled:hover {\n",
              "    background-color: var(--disabled-bg-color);\n",
              "    fill: var(--disabled-fill-color);\n",
              "    box-shadow: none;\n",
              "  }\n",
              "\n",
              "  .colab-df-spinner {\n",
              "    border: 2px solid var(--fill-color);\n",
              "    border-color: transparent;\n",
              "    border-bottom-color: var(--fill-color);\n",
              "    animation:\n",
              "      spin 1s steps(1) infinite;\n",
              "  }\n",
              "\n",
              "  @keyframes spin {\n",
              "    0% {\n",
              "      border-color: transparent;\n",
              "      border-bottom-color: var(--fill-color);\n",
              "      border-left-color: var(--fill-color);\n",
              "    }\n",
              "    20% {\n",
              "      border-color: transparent;\n",
              "      border-left-color: var(--fill-color);\n",
              "      border-top-color: var(--fill-color);\n",
              "    }\n",
              "    30% {\n",
              "      border-color: transparent;\n",
              "      border-left-color: var(--fill-color);\n",
              "      border-top-color: var(--fill-color);\n",
              "      border-right-color: var(--fill-color);\n",
              "    }\n",
              "    40% {\n",
              "      border-color: transparent;\n",
              "      border-right-color: var(--fill-color);\n",
              "      border-top-color: var(--fill-color);\n",
              "    }\n",
              "    60% {\n",
              "      border-color: transparent;\n",
              "      border-right-color: var(--fill-color);\n",
              "    }\n",
              "    80% {\n",
              "      border-color: transparent;\n",
              "      border-right-color: var(--fill-color);\n",
              "      border-bottom-color: var(--fill-color);\n",
              "    }\n",
              "    90% {\n",
              "      border-color: transparent;\n",
              "      border-bottom-color: var(--fill-color);\n",
              "    }\n",
              "  }\n",
              "</style>\n",
              "\n",
              "  <script>\n",
              "    async function quickchart(key) {\n",
              "      const quickchartButtonEl =\n",
              "        document.querySelector('#' + key + ' button');\n",
              "      quickchartButtonEl.disabled = true;  // To prevent multiple clicks.\n",
              "      quickchartButtonEl.classList.add('colab-df-spinner');\n",
              "      try {\n",
              "        const charts = await google.colab.kernel.invokeFunction(\n",
              "            'suggestCharts', [key], {});\n",
              "      } catch (error) {\n",
              "        console.error('Error during call to suggestCharts:', error);\n",
              "      }\n",
              "      quickchartButtonEl.classList.remove('colab-df-spinner');\n",
              "      quickchartButtonEl.classList.add('colab-df-quickchart-complete');\n",
              "    }\n",
              "    (() => {\n",
              "      let quickchartButtonEl =\n",
              "        document.querySelector('#df-b8da26e8-21f3-4ab6-bc1a-02b6592e15d1 button');\n",
              "      quickchartButtonEl.style.display =\n",
              "        google.colab.kernel.accessAllowed ? 'block' : 'none';\n",
              "    })();\n",
              "  </script>\n",
              "</div>\n",
              "    </div>\n",
              "  </div>\n"
            ]
          },
          "metadata": {},
          "execution_count": 8
        }
      ],
      "source": [
        "#viewing data\n",
        "data.head()"
      ]
    },
    {
      "cell_type": "code",
      "execution_count": 9,
      "metadata": {
        "id": "qDjqp4BZFOLW"
      },
      "outputs": [],
      "source": [
        "# split into predictors and response\n",
        "X = data.iloc[:,0:8] #predictors\n",
        "Y = data.iloc[:,8] #response"
      ]
    },
    {
      "cell_type": "code",
      "execution_count": 10,
      "metadata": {
        "id": "UF-u_5SzFOLW"
      },
      "outputs": [],
      "source": [
        "# Function to create model,for KerasClassifier\n",
        "def create_my_model():\n",
        "    #defining my model\n",
        "    mymodel = Sequential()\n",
        "    mymodel.add(Dense(12, input_dim=8, activation='relu'))\n",
        "    mymodel.add(Dense(1, activation='sigmoid'))\n",
        "\n",
        "    # Compile the model\n",
        "    mymodel.compile(loss='binary_crossentropy', optimizer='adam', metrics=['accuracy'])\n",
        "    return mymodel"
      ]
    },
    {
      "cell_type": "code",
      "execution_count": 17,
      "metadata": {
        "colab": {
          "base_uri": "https://localhost:8080/",
          "height": 197
        },
        "id": "AgsgPY6PFOLX",
        "outputId": "a7ec4e72-2d1c-4184-96f6-65e444dbb88e"
      },
      "outputs": [
        {
          "output_type": "error",
          "ename": "NameError",
          "evalue": "ignored",
          "traceback": [
            "\u001b[0;31m---------------------------------------------------------------------------\u001b[0m",
            "\u001b[0;31mNameError\u001b[0m                                 Traceback (most recent call last)",
            "\u001b[0;32m<ipython-input-17-28c76d80fe83>\u001b[0m in \u001b[0;36m<cell line: 2>\u001b[0;34m()\u001b[0m\n\u001b[1;32m      1\u001b[0m \u001b[0;31m# create model\u001b[0m\u001b[0;34m\u001b[0m\u001b[0;34m\u001b[0m\u001b[0m\n\u001b[0;32m----> 2\u001b[0;31m \u001b[0mmodel\u001b[0m \u001b[0;34m=\u001b[0m \u001b[0mKerasClassifier\u001b[0m\u001b[0;34m(\u001b[0m\u001b[0mbuild_fn\u001b[0m\u001b[0;34m=\u001b[0m\u001b[0mcreate_my_model\u001b[0m\u001b[0;34m)\u001b[0m\u001b[0;34m\u001b[0m\u001b[0;34m\u001b[0m\u001b[0m\n\u001b[0m",
            "\u001b[0;31mNameError\u001b[0m: name 'create_my_model' is not defined"
          ]
        }
      ],
      "source": [
        "# create model\n",
        "model = KerasClassifier(build_fn=create_my_model)"
      ]
    },
    {
      "cell_type": "code",
      "execution_count": 11,
      "metadata": {
        "id": "cP2TozvYFOLX"
      },
      "outputs": [],
      "source": [
        "# define the grid search parameters\n",
        "batchSize = [10, 20, 40, 60, 80, 100]\n",
        "epochs = [10, 30, 50, 100, 200,400]"
      ]
    },
    {
      "cell_type": "code",
      "execution_count": 9,
      "metadata": {
        "colab": {
          "base_uri": "https://localhost:8080/"
        },
        "id": "MLBTG1z5FOLX",
        "outputId": "8f4c604c-1e76-4567-bb29-d8dbb56c9b68"
      },
      "outputs": [
        {
          "output_type": "stream",
          "name": "stdout",
          "text": [
            "Epoch 1/50\n",
            "77/77 [==============================] - 2s 3ms/step - loss: 4.3230 - accuracy: 0.6016\n",
            "Epoch 2/50\n",
            "77/77 [==============================] - 0s 3ms/step - loss: 2.1673 - accuracy: 0.6497\n",
            "Epoch 3/50\n",
            "77/77 [==============================] - 0s 3ms/step - loss: 1.6892 - accuracy: 0.6576\n",
            "Epoch 4/50\n",
            "77/77 [==============================] - 0s 4ms/step - loss: 1.4881 - accuracy: 0.6680\n",
            "Epoch 5/50\n",
            "77/77 [==============================] - 0s 3ms/step - loss: 1.3236 - accuracy: 0.6641\n",
            "Epoch 6/50\n",
            "77/77 [==============================] - 0s 3ms/step - loss: 1.2151 - accuracy: 0.6536\n",
            "Epoch 7/50\n",
            "77/77 [==============================] - 0s 3ms/step - loss: 1.1130 - accuracy: 0.6680\n",
            "Epoch 8/50\n",
            "77/77 [==============================] - 0s 3ms/step - loss: 1.0528 - accuracy: 0.6549\n",
            "Epoch 9/50\n",
            "77/77 [==============================] - 0s 3ms/step - loss: 0.9768 - accuracy: 0.6667\n",
            "Epoch 10/50\n",
            "77/77 [==============================] - 0s 3ms/step - loss: 0.9413 - accuracy: 0.6693\n",
            "Epoch 11/50\n",
            "77/77 [==============================] - 0s 3ms/step - loss: 0.8735 - accuracy: 0.6589\n",
            "Epoch 12/50\n",
            "77/77 [==============================] - 0s 3ms/step - loss: 0.8601 - accuracy: 0.6549\n",
            "Epoch 13/50\n",
            "77/77 [==============================] - 0s 3ms/step - loss: 0.8215 - accuracy: 0.6706\n",
            "Epoch 14/50\n",
            "77/77 [==============================] - 0s 3ms/step - loss: 0.7817 - accuracy: 0.6745\n",
            "Epoch 15/50\n",
            "77/77 [==============================] - 0s 3ms/step - loss: 0.7519 - accuracy: 0.6615\n",
            "Epoch 16/50\n",
            "77/77 [==============================] - 0s 3ms/step - loss: 0.7230 - accuracy: 0.6602\n",
            "Epoch 17/50\n",
            "77/77 [==============================] - 0s 3ms/step - loss: 0.7170 - accuracy: 0.6654\n",
            "Epoch 18/50\n",
            "77/77 [==============================] - 0s 3ms/step - loss: 0.6860 - accuracy: 0.6719\n",
            "Epoch 19/50\n",
            "77/77 [==============================] - 0s 3ms/step - loss: 0.6990 - accuracy: 0.6797\n",
            "Epoch 20/50\n",
            "77/77 [==============================] - 0s 3ms/step - loss: 0.6929 - accuracy: 0.6888\n",
            "Epoch 21/50\n",
            "77/77 [==============================] - 0s 3ms/step - loss: 0.6961 - accuracy: 0.6667\n",
            "Epoch 22/50\n",
            "77/77 [==============================] - 0s 3ms/step - loss: 0.6821 - accuracy: 0.6875\n",
            "Epoch 23/50\n",
            "77/77 [==============================] - 0s 3ms/step - loss: 0.6418 - accuracy: 0.6914\n",
            "Epoch 24/50\n",
            "77/77 [==============================] - 0s 3ms/step - loss: 0.6519 - accuracy: 0.6797\n",
            "Epoch 25/50\n",
            "77/77 [==============================] - 0s 3ms/step - loss: 0.6319 - accuracy: 0.6953\n",
            "Epoch 26/50\n",
            "77/77 [==============================] - 0s 3ms/step - loss: 0.6429 - accuracy: 0.7005\n",
            "Epoch 27/50\n",
            "77/77 [==============================] - 0s 3ms/step - loss: 0.6448 - accuracy: 0.6849\n",
            "Epoch 28/50\n",
            "77/77 [==============================] - 0s 3ms/step - loss: 0.6231 - accuracy: 0.7109\n",
            "Epoch 29/50\n",
            "77/77 [==============================] - 0s 3ms/step - loss: 0.6500 - accuracy: 0.6862\n",
            "Epoch 30/50\n",
            "77/77 [==============================] - 0s 4ms/step - loss: 0.6253 - accuracy: 0.6992\n",
            "Epoch 31/50\n",
            "77/77 [==============================] - 0s 4ms/step - loss: 0.6397 - accuracy: 0.6823\n",
            "Epoch 32/50\n",
            "77/77 [==============================] - 0s 4ms/step - loss: 0.6300 - accuracy: 0.6940\n",
            "Epoch 33/50\n",
            "77/77 [==============================] - 0s 4ms/step - loss: 0.6096 - accuracy: 0.7018\n",
            "Epoch 34/50\n",
            "77/77 [==============================] - 0s 4ms/step - loss: 0.6508 - accuracy: 0.7018\n",
            "Epoch 35/50\n",
            "77/77 [==============================] - 0s 5ms/step - loss: 0.6090 - accuracy: 0.7031\n",
            "Epoch 36/50\n",
            "77/77 [==============================] - 0s 4ms/step - loss: 0.5977 - accuracy: 0.7096\n",
            "Epoch 37/50\n",
            "77/77 [==============================] - 0s 5ms/step - loss: 0.6033 - accuracy: 0.7174\n",
            "Epoch 38/50\n",
            "77/77 [==============================] - 0s 3ms/step - loss: 0.6199 - accuracy: 0.6901\n",
            "Epoch 39/50\n",
            "77/77 [==============================] - 0s 3ms/step - loss: 0.5914 - accuracy: 0.7135\n",
            "Epoch 40/50\n",
            "77/77 [==============================] - 0s 3ms/step - loss: 0.5896 - accuracy: 0.7070\n",
            "Epoch 41/50\n",
            "77/77 [==============================] - 0s 3ms/step - loss: 0.5946 - accuracy: 0.7083\n",
            "Epoch 42/50\n",
            "77/77 [==============================] - 0s 3ms/step - loss: 0.5816 - accuracy: 0.7201\n",
            "Epoch 43/50\n",
            "77/77 [==============================] - 0s 3ms/step - loss: 0.5939 - accuracy: 0.7109\n",
            "Epoch 44/50\n",
            "77/77 [==============================] - 0s 3ms/step - loss: 0.5967 - accuracy: 0.7109\n",
            "Epoch 45/50\n",
            "77/77 [==============================] - 0s 3ms/step - loss: 0.6066 - accuracy: 0.7148\n",
            "Epoch 46/50\n",
            "77/77 [==============================] - 0s 3ms/step - loss: 0.5795 - accuracy: 0.7201\n",
            "Epoch 47/50\n",
            "77/77 [==============================] - 0s 3ms/step - loss: 0.5880 - accuracy: 0.7240\n",
            "Epoch 48/50\n",
            "77/77 [==============================] - 0s 3ms/step - loss: 0.5821 - accuracy: 0.7305\n",
            "Epoch 49/50\n",
            "77/77 [==============================] - 0s 3ms/step - loss: 0.6271 - accuracy: 0.6797\n",
            "Epoch 50/50\n",
            "77/77 [==============================] - 0s 3ms/step - loss: 0.5783 - accuracy: 0.7188\n"
          ]
        }
      ],
      "source": [
        "parameter_grid = dict(batch_size=batchSize, epochs=epochs)\n",
        "\n",
        "\n",
        "mygrid = GridSearchCV(estimator=model, param_grid=parameter_grid, n_jobs=-1, cv=3)\n",
        "grid_result = mygrid.fit(X, Y)"
      ]
    },
    {
      "cell_type": "code",
      "execution_count": 11,
      "metadata": {
        "colab": {
          "base_uri": "https://localhost:8080/"
        },
        "id": "RHq2VhMgFOLX",
        "outputId": "5c1b9a83-38ce-4cf5-ca1d-9755649a948d"
      },
      "outputs": [
        {
          "output_type": "stream",
          "name": "stdout",
          "text": [
            "Best: 0.716146 using {'batch_size': 10, 'epochs': 50}\n"
          ]
        }
      ],
      "source": [
        "# summarize results\n",
        "print(\"Best: %f using %s\" % (grid_result.best_score_, grid_result.best_params_))"
      ]
    },
    {
      "cell_type": "markdown",
      "metadata": {
        "id": "8tUaOA9oFOLY"
      },
      "source": [
        "# part 2- Optimizing Activation Function"
      ]
    },
    {
      "cell_type": "code",
      "execution_count": 18,
      "metadata": {
        "id": "1dPbLzDfFOLY"
      },
      "outputs": [],
      "source": [
        "# Function to create model\n",
        "def create_my_model(optimizer='adam'):\n",
        "    # create model\n",
        "    mymodel = Sequential()\n",
        "    mymodel.add(Dense(12, input_dim=8, activation='relu'))\n",
        "    mymodel.add(Dense(1, activation='sigmoid'))\n",
        "    # Compile model\n",
        "    mymodel.compile(loss='binary_crossentropy', optimizer=optimizer, metrics=['accuracy'])\n",
        "    return mymodel"
      ]
    },
    {
      "cell_type": "code",
      "execution_count": 19,
      "metadata": {
        "id": "GSEcDC7gFOLY"
      },
      "outputs": [],
      "source": [
        "# create model\n",
        "model = KerasClassifier(build_fn=create_my_model, epochs=50, batch_size=10)"
      ]
    },
    {
      "cell_type": "code",
      "execution_count": 20,
      "metadata": {
        "id": "E-DEK1w3FOLY"
      },
      "outputs": [],
      "source": [
        "# define the grid search parameters\n",
        "optimizer = ['SGD','Adadelta', 'RMSprop', 'Adagrad','Adam']\n",
        "parameter_grid = dict(optimizer=optimizer)"
      ]
    },
    {
      "cell_type": "code",
      "execution_count": 15,
      "metadata": {
        "colab": {
          "base_uri": "https://localhost:8080/"
        },
        "id": "FqUJDzSbFOLY",
        "outputId": "412f4ae3-4809-4963-bbdf-073fe360f3dd"
      },
      "outputs": [
        {
          "output_type": "stream",
          "name": "stdout",
          "text": [
            "Epoch 1/50\n",
            "77/77 [==============================] - 2s 5ms/step - loss: 11.4870 - accuracy: 0.4974\n",
            "Epoch 2/50\n",
            "77/77 [==============================] - 0s 4ms/step - loss: 7.9322 - accuracy: 0.4349\n",
            "Epoch 3/50\n",
            "77/77 [==============================] - 0s 3ms/step - loss: 6.1282 - accuracy: 0.4349\n",
            "Epoch 4/50\n",
            "77/77 [==============================] - 0s 3ms/step - loss: 4.4569 - accuracy: 0.4583\n",
            "Epoch 5/50\n",
            "77/77 [==============================] - 0s 3ms/step - loss: 3.2957 - accuracy: 0.4857\n",
            "Epoch 6/50\n",
            "77/77 [==============================] - 0s 3ms/step - loss: 2.4570 - accuracy: 0.4883\n",
            "Epoch 7/50\n",
            "77/77 [==============================] - 0s 3ms/step - loss: 1.8574 - accuracy: 0.5326\n",
            "Epoch 8/50\n",
            "77/77 [==============================] - 0s 3ms/step - loss: 1.4760 - accuracy: 0.5521\n",
            "Epoch 9/50\n",
            "77/77 [==============================] - 0s 3ms/step - loss: 1.2316 - accuracy: 0.5716\n",
            "Epoch 10/50\n",
            "77/77 [==============================] - 0s 3ms/step - loss: 1.0768 - accuracy: 0.5990\n",
            "Epoch 11/50\n",
            "77/77 [==============================] - 0s 3ms/step - loss: 1.0057 - accuracy: 0.6055\n",
            "Epoch 12/50\n",
            "77/77 [==============================] - 0s 3ms/step - loss: 0.9181 - accuracy: 0.6289\n",
            "Epoch 13/50\n",
            "77/77 [==============================] - 0s 3ms/step - loss: 0.9289 - accuracy: 0.6289\n",
            "Epoch 14/50\n",
            "77/77 [==============================] - 0s 3ms/step - loss: 0.8424 - accuracy: 0.6406\n",
            "Epoch 15/50\n",
            "77/77 [==============================] - 0s 3ms/step - loss: 0.8406 - accuracy: 0.6120\n",
            "Epoch 16/50\n",
            "77/77 [==============================] - 0s 3ms/step - loss: 0.7659 - accuracy: 0.6615\n",
            "Epoch 17/50\n",
            "77/77 [==============================] - 0s 3ms/step - loss: 0.7928 - accuracy: 0.6367\n",
            "Epoch 18/50\n",
            "77/77 [==============================] - 0s 3ms/step - loss: 0.7994 - accuracy: 0.6484\n",
            "Epoch 19/50\n",
            "77/77 [==============================] - 0s 3ms/step - loss: 0.7137 - accuracy: 0.6628\n",
            "Epoch 20/50\n",
            "77/77 [==============================] - 0s 3ms/step - loss: 0.7007 - accuracy: 0.6628\n",
            "Epoch 21/50\n",
            "77/77 [==============================] - 0s 3ms/step - loss: 0.7375 - accuracy: 0.6536\n",
            "Epoch 22/50\n",
            "77/77 [==============================] - 0s 3ms/step - loss: 0.7056 - accuracy: 0.6797\n",
            "Epoch 23/50\n",
            "77/77 [==============================] - 0s 3ms/step - loss: 0.6821 - accuracy: 0.6654\n",
            "Epoch 24/50\n",
            "77/77 [==============================] - 0s 3ms/step - loss: 0.6524 - accuracy: 0.6836\n",
            "Epoch 25/50\n",
            "77/77 [==============================] - 0s 3ms/step - loss: 0.6426 - accuracy: 0.6797\n",
            "Epoch 26/50\n",
            "77/77 [==============================] - 0s 3ms/step - loss: 0.6259 - accuracy: 0.7018\n",
            "Epoch 27/50\n",
            "77/77 [==============================] - 0s 3ms/step - loss: 0.6238 - accuracy: 0.6823\n",
            "Epoch 28/50\n",
            "77/77 [==============================] - 0s 3ms/step - loss: 0.6461 - accuracy: 0.6823\n",
            "Epoch 29/50\n",
            "77/77 [==============================] - 0s 3ms/step - loss: 0.6355 - accuracy: 0.6797\n",
            "Epoch 30/50\n",
            "77/77 [==============================] - 0s 3ms/step - loss: 0.6464 - accuracy: 0.6680\n",
            "Epoch 31/50\n",
            "77/77 [==============================] - 0s 3ms/step - loss: 0.5994 - accuracy: 0.6875\n",
            "Epoch 32/50\n",
            "77/77 [==============================] - 0s 3ms/step - loss: 0.5989 - accuracy: 0.7148\n",
            "Epoch 33/50\n",
            "77/77 [==============================] - 0s 3ms/step - loss: 0.5901 - accuracy: 0.6927\n",
            "Epoch 34/50\n",
            "77/77 [==============================] - 0s 3ms/step - loss: 0.6158 - accuracy: 0.6888\n",
            "Epoch 35/50\n",
            "77/77 [==============================] - 0s 3ms/step - loss: 0.6057 - accuracy: 0.6979\n",
            "Epoch 36/50\n",
            "77/77 [==============================] - 0s 3ms/step - loss: 0.6446 - accuracy: 0.6940\n",
            "Epoch 37/50\n",
            "77/77 [==============================] - 0s 3ms/step - loss: 0.6062 - accuracy: 0.6914\n",
            "Epoch 38/50\n",
            "77/77 [==============================] - 0s 3ms/step - loss: 0.5957 - accuracy: 0.7031\n",
            "Epoch 39/50\n",
            "77/77 [==============================] - 0s 3ms/step - loss: 0.6149 - accuracy: 0.6758\n",
            "Epoch 40/50\n",
            "77/77 [==============================] - 0s 3ms/step - loss: 0.6382 - accuracy: 0.6901\n",
            "Epoch 41/50\n",
            "77/77 [==============================] - 0s 5ms/step - loss: 0.5870 - accuracy: 0.7057\n",
            "Epoch 42/50\n",
            "77/77 [==============================] - 0s 5ms/step - loss: 0.5836 - accuracy: 0.6888\n",
            "Epoch 43/50\n",
            "77/77 [==============================] - 0s 4ms/step - loss: 0.5738 - accuracy: 0.6966\n",
            "Epoch 44/50\n",
            "77/77 [==============================] - 0s 4ms/step - loss: 0.6472 - accuracy: 0.6654\n",
            "Epoch 45/50\n",
            "77/77 [==============================] - 0s 4ms/step - loss: 0.5832 - accuracy: 0.7070\n",
            "Epoch 46/50\n",
            "77/77 [==============================] - 0s 4ms/step - loss: 0.5881 - accuracy: 0.6992\n",
            "Epoch 47/50\n",
            "77/77 [==============================] - 0s 4ms/step - loss: 0.6487 - accuracy: 0.6771\n",
            "Epoch 48/50\n",
            "77/77 [==============================] - 0s 5ms/step - loss: 0.6176 - accuracy: 0.6966\n",
            "Epoch 49/50\n",
            "77/77 [==============================] - 0s 3ms/step - loss: 0.5641 - accuracy: 0.7083\n",
            "Epoch 50/50\n",
            "77/77 [==============================] - 0s 3ms/step - loss: 0.5938 - accuracy: 0.6953\n"
          ]
        }
      ],
      "source": [
        "grid = GridSearchCV(estimator=model, param_grid=parameter_grid, n_jobs=-1, cv=3)\n",
        "grid_result = grid.fit(X, Y)"
      ]
    },
    {
      "cell_type": "code",
      "execution_count": 16,
      "metadata": {
        "colab": {
          "base_uri": "https://localhost:8080/"
        },
        "id": "6Q4H9zbtFOLY",
        "outputId": "50943fc3-f581-4425-d331-9cfa568f84ef"
      },
      "outputs": [
        {
          "output_type": "stream",
          "name": "stdout",
          "text": [
            "Best: 0.671875 using {'optimizer': 'Adam'}\n"
          ]
        }
      ],
      "source": [
        "# summarize results\n",
        "print(\"Best: %f using %s\" % (grid_result.best_score_, grid_result.best_params_))"
      ]
    },
    {
      "cell_type": "markdown",
      "metadata": {
        "id": "Xmff-6f2FOLY"
      },
      "source": [
        "# How can you improve accuracy of the model?"
      ]
    },
    {
      "cell_type": "code",
      "source": [
        "def create_model():\n",
        "\t# create model\n",
        "  model = Sequential()\n",
        "  model.add(Dense(12, input_shape=(8,), activation='relu'))\n",
        "  model.add(Dense(1, activation='sigmoid'))\n",
        "  model.compile(loss='binary_crossentropy',\n",
        "                optimizer=optimizer, metrics=['accuracy'])\n",
        "\n",
        "\t# return model without compile\n",
        "  return model\n",
        "# fix random seed for reproducibility\n"
      ],
      "metadata": {
        "id": "U6PRDfOyK_Z9"
      },
      "execution_count": 12,
      "outputs": []
    },
    {
      "cell_type": "code",
      "source": [
        "import tensorflow as tf\n"
      ],
      "metadata": {
        "id": "9yiGEfB7LLSD"
      },
      "execution_count": 13,
      "outputs": []
    },
    {
      "cell_type": "code",
      "source": [
        "seed = 7\n",
        "tf.random.set_seed(seed)\n"
      ],
      "metadata": {
        "id": "4fmHKVTTLFuC"
      },
      "execution_count": 21,
      "outputs": []
    },
    {
      "cell_type": "code",
      "execution_count": 22,
      "metadata": {
        "id": "UA9EcM0QFOLY"
      },
      "outputs": [],
      "source": [
        "optimizer = ['SGD', 'RMSprop', 'Adagrad', 'Adadelta', 'Adam', 'Adamax', 'Nadam']\n",
        "param_grid = dict(model__optimizer=optimizer)\n"
      ]
    },
    {
      "cell_type": "code",
      "source": [
        "grid = GridSearchCV(estimator=model, param_grid=parameter_grid, n_jobs=-1, cv=3)\n",
        "grid_result = grid.fit(X, Y)"
      ],
      "metadata": {
        "colab": {
          "base_uri": "https://localhost:8080/"
        },
        "id": "VRRwkU1RLGoN",
        "outputId": "2ebd6be4-9ebe-4497-fae1-6d415ff56a86"
      },
      "execution_count": 23,
      "outputs": [
        {
          "output_type": "stream",
          "name": "stdout",
          "text": [
            "Epoch 1/50\n",
            "77/77 [==============================] - 2s 3ms/step - loss: 7.2790 - accuracy: 0.5651\n",
            "Epoch 2/50\n",
            "77/77 [==============================] - 0s 3ms/step - loss: 3.5345 - accuracy: 0.6458\n",
            "Epoch 3/50\n",
            "77/77 [==============================] - 0s 3ms/step - loss: 3.1099 - accuracy: 0.6458\n",
            "Epoch 4/50\n",
            "77/77 [==============================] - 0s 3ms/step - loss: 2.7432 - accuracy: 0.6471\n",
            "Epoch 5/50\n",
            "77/77 [==============================] - 0s 3ms/step - loss: 2.4000 - accuracy: 0.6380\n",
            "Epoch 6/50\n",
            "77/77 [==============================] - 0s 3ms/step - loss: 2.1405 - accuracy: 0.6328\n",
            "Epoch 7/50\n",
            "77/77 [==============================] - 0s 3ms/step - loss: 1.7225 - accuracy: 0.6458\n",
            "Epoch 8/50\n",
            "77/77 [==============================] - 0s 3ms/step - loss: 1.4520 - accuracy: 0.6393\n",
            "Epoch 9/50\n",
            "77/77 [==============================] - 0s 3ms/step - loss: 1.0732 - accuracy: 0.6471\n",
            "Epoch 10/50\n",
            "77/77 [==============================] - 0s 3ms/step - loss: 0.8372 - accuracy: 0.6745\n",
            "Epoch 11/50\n",
            "77/77 [==============================] - 0s 3ms/step - loss: 0.7455 - accuracy: 0.6875\n",
            "Epoch 12/50\n",
            "77/77 [==============================] - 0s 3ms/step - loss: 0.7484 - accuracy: 0.6810\n",
            "Epoch 13/50\n",
            "77/77 [==============================] - 0s 3ms/step - loss: 0.7416 - accuracy: 0.6771\n",
            "Epoch 14/50\n",
            "77/77 [==============================] - 0s 3ms/step - loss: 0.6857 - accuracy: 0.6966\n",
            "Epoch 15/50\n",
            "77/77 [==============================] - 0s 3ms/step - loss: 0.6968 - accuracy: 0.7005\n",
            "Epoch 16/50\n",
            "77/77 [==============================] - 0s 3ms/step - loss: 0.6974 - accuracy: 0.6940\n",
            "Epoch 17/50\n",
            "77/77 [==============================] - 0s 3ms/step - loss: 0.6951 - accuracy: 0.6732\n",
            "Epoch 18/50\n",
            "77/77 [==============================] - 0s 4ms/step - loss: 0.6949 - accuracy: 0.6771\n",
            "Epoch 19/50\n",
            "77/77 [==============================] - 0s 5ms/step - loss: 0.6734 - accuracy: 0.6836\n",
            "Epoch 20/50\n",
            "77/77 [==============================] - 0s 4ms/step - loss: 0.6311 - accuracy: 0.7018\n",
            "Epoch 21/50\n",
            "77/77 [==============================] - 0s 4ms/step - loss: 0.6480 - accuracy: 0.6966\n",
            "Epoch 22/50\n",
            "77/77 [==============================] - 0s 5ms/step - loss: 0.6465 - accuracy: 0.6836\n",
            "Epoch 23/50\n",
            "77/77 [==============================] - 0s 5ms/step - loss: 0.6407 - accuracy: 0.6992\n",
            "Epoch 24/50\n",
            "77/77 [==============================] - 0s 4ms/step - loss: 0.6347 - accuracy: 0.6992\n",
            "Epoch 25/50\n",
            "77/77 [==============================] - 0s 4ms/step - loss: 0.6185 - accuracy: 0.6992\n",
            "Epoch 26/50\n",
            "77/77 [==============================] - 0s 4ms/step - loss: 0.6588 - accuracy: 0.6966\n",
            "Epoch 27/50\n",
            "77/77 [==============================] - 0s 3ms/step - loss: 0.6235 - accuracy: 0.7161\n",
            "Epoch 28/50\n",
            "77/77 [==============================] - 0s 3ms/step - loss: 0.6287 - accuracy: 0.7240\n",
            "Epoch 29/50\n",
            "77/77 [==============================] - 0s 3ms/step - loss: 0.6164 - accuracy: 0.7018\n",
            "Epoch 30/50\n",
            "77/77 [==============================] - 0s 3ms/step - loss: 0.6380 - accuracy: 0.7005\n",
            "Epoch 31/50\n",
            "77/77 [==============================] - 0s 3ms/step - loss: 0.6071 - accuracy: 0.7031\n",
            "Epoch 32/50\n",
            "77/77 [==============================] - 0s 3ms/step - loss: 0.6731 - accuracy: 0.6862\n",
            "Epoch 33/50\n",
            "77/77 [==============================] - 0s 3ms/step - loss: 0.6316 - accuracy: 0.6940\n",
            "Epoch 34/50\n",
            "77/77 [==============================] - 0s 3ms/step - loss: 0.5768 - accuracy: 0.7357\n",
            "Epoch 35/50\n",
            "77/77 [==============================] - 0s 3ms/step - loss: 0.5933 - accuracy: 0.7201\n",
            "Epoch 36/50\n",
            "77/77 [==============================] - 0s 3ms/step - loss: 0.6086 - accuracy: 0.6927\n",
            "Epoch 37/50\n",
            "77/77 [==============================] - 0s 3ms/step - loss: 0.6220 - accuracy: 0.7044\n",
            "Epoch 38/50\n",
            "77/77 [==============================] - 0s 3ms/step - loss: 0.5745 - accuracy: 0.7331\n",
            "Epoch 39/50\n",
            "77/77 [==============================] - 0s 3ms/step - loss: 0.5780 - accuracy: 0.7161\n",
            "Epoch 40/50\n",
            "77/77 [==============================] - 0s 3ms/step - loss: 0.5712 - accuracy: 0.7292\n",
            "Epoch 41/50\n",
            "77/77 [==============================] - 0s 3ms/step - loss: 0.5754 - accuracy: 0.7174\n",
            "Epoch 42/50\n",
            "77/77 [==============================] - 0s 3ms/step - loss: 0.5718 - accuracy: 0.7214\n",
            "Epoch 43/50\n",
            "77/77 [==============================] - 0s 3ms/step - loss: 0.6028 - accuracy: 0.6966\n",
            "Epoch 44/50\n",
            "77/77 [==============================] - 0s 3ms/step - loss: 0.5719 - accuracy: 0.7292\n",
            "Epoch 45/50\n",
            "77/77 [==============================] - 0s 3ms/step - loss: 0.5767 - accuracy: 0.7122\n",
            "Epoch 46/50\n",
            "77/77 [==============================] - 0s 3ms/step - loss: 0.5931 - accuracy: 0.7070\n",
            "Epoch 47/50\n",
            "77/77 [==============================] - 0s 3ms/step - loss: 0.6007 - accuracy: 0.7174\n",
            "Epoch 48/50\n",
            "77/77 [==============================] - 0s 3ms/step - loss: 0.5821 - accuracy: 0.7279\n",
            "Epoch 49/50\n",
            "77/77 [==============================] - 0s 3ms/step - loss: 0.6005 - accuracy: 0.7174\n",
            "Epoch 50/50\n",
            "77/77 [==============================] - 0s 3ms/step - loss: 0.5636 - accuracy: 0.7227\n"
          ]
        }
      ]
    },
    {
      "cell_type": "markdown",
      "source": [
        "We have reached 0.735 accuracy\n"
      ],
      "metadata": {
        "id": "vyHjWHd8fNWp"
      }
    },
    {
      "cell_type": "code",
      "source": [],
      "metadata": {
        "id": "5IbP2ZzQNKU7"
      },
      "execution_count": null,
      "outputs": []
    }
  ],
  "metadata": {
    "kernelspec": {
      "display_name": "Python 3",
      "name": "python3"
    },
    "language_info": {
      "codemirror_mode": {
        "name": "ipython",
        "version": 3
      },
      "file_extension": ".py",
      "mimetype": "text/x-python",
      "name": "python",
      "nbconvert_exporter": "python",
      "pygments_lexer": "ipython3",
      "version": "3.11.3"
    },
    "colab": {
      "provenance": [],
      "gpuType": "T4"
    },
    "accelerator": "GPU"
  },
  "nbformat": 4,
  "nbformat_minor": 0
}